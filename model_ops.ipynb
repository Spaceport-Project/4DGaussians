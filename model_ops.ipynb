{
 "cells": [
  {
   "cell_type": "code",
   "execution_count": 1,
   "metadata": {},
   "outputs": [],
   "source": [
    "# test datasetini alıp ordaki image'lar üzerinde PSNR dönecek. \n",
    "# Çıktı olarak da psnr değerlerinin ortalamasını alacak. Bu da optunaya param olarak gidecek. Amaç bu değeri max yapmak olacak \n",
    "\n",
    "import os\n",
    "import torch\n",
    "\n",
    "def test_output_model(datadir, model):\n",
    "    test_dataset = torch.load(os.path.join(datadir, \"test_dataset.pt\"))\n",
    "\n",
    "a = torch.tensor(22.9292, device='cuda:0', dtype=torch.float64)"
   ]
  },
  {
   "cell_type": "code",
   "execution_count": 3,
   "metadata": {},
   "outputs": [
    {
     "data": {
      "text/plain": [
       "22.9292"
      ]
     },
     "execution_count": 3,
     "metadata": {},
     "output_type": "execute_result"
    }
   ],
   "source": [
    "a.item()"
   ]
  },
  {
   "cell_type": "markdown",
   "metadata": {},
   "source": []
  }
 ],
 "metadata": {
  "kernelspec": {
   "display_name": "Gaussians4D",
   "language": "python",
   "name": "python3"
  },
  "language_info": {
   "codemirror_mode": {
    "name": "ipython",
    "version": 3
   },
   "file_extension": ".py",
   "mimetype": "text/x-python",
   "name": "python",
   "nbconvert_exporter": "python",
   "pygments_lexer": "ipython3",
   "version": "3.7.12"
  }
 },
 "nbformat": 4,
 "nbformat_minor": 2
}
