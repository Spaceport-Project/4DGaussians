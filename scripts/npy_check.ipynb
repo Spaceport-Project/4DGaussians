{
 "cells": [
  {
   "cell_type": "code",
   "execution_count": 2,
   "metadata": {},
   "outputs": [
    {
     "name": "stdout",
     "output_type": "stream",
     "text": [
      "Dosyalar aynı.\n"
     ]
    }
   ],
   "source": [
    "import numpy as np\n",
    "\n",
    "def are_npy_files_equal(file1, file2):\n",
    "    # .npy dosyalarını yükle\n",
    "    array1 = np.load(file1)\n",
    "    array2 = np.load(file2)\n",
    "\n",
    "    # İki numpy dizisinin eşit olup olmadığını kontrol et\n",
    "    return np.array_equal(array1, array2)\n",
    "\n",
    "# Örnek kullanım\n",
    "file1 = '/mnt/Elements1/18-07-2024_Basler_Data/Firat_2/firat_2_3_interval_test/0-2/masked_undistorted_images/poses_bounds.npy'\n",
    "file2 = '/mnt/Elements1/18-07-2024_Basler_Data/Firat_2/firat_2_3_interval_test/0-2/undistorted_LLFF_input/poses_bounds.npy'\n",
    "\n",
    "if are_npy_files_equal(file1, file2):\n",
    "    print(\"Dosyalar aynı.\")\n",
    "else:\n",
    "    print(\"Dosyalar farklı.\")"
   ]
  },
  {
   "cell_type": "code",
   "execution_count": 3,
   "metadata": {},
   "outputs": [
    {
     "ename": "SyntaxError",
     "evalue": "invalid syntax (4137785942.py, line 9)",
     "output_type": "error",
     "traceback": [
      "\u001b[0;36m  File \u001b[0;32m\"/tmp/ipykernel_309974/4137785942.py\"\u001b[0;36m, line \u001b[0;32m9\u001b[0m\n\u001b[0;31m    args = parser....\u001b[0m\n\u001b[0m                   ^\u001b[0m\n\u001b[0;31mSyntaxError\u001b[0m\u001b[0;31m:\u001b[0m invalid syntax\n"
     ]
    }
   ],
   "source": [
    "import os\n",
    "import argparse\n",
    "\n",
    "parser = argparse.ArgumentParser()\n",
    "parser.add_argument(\"data_head_dir\", help=\"Data head Dir\", required=True, type=str)\n",
    "args = parser.parse_args()\n",
    "dataset_dir = args.data_head_dir\n",
    "\n",
    "other_poses = list()\n",
    "ref_pose_interval = None\n",
    "\n",
    "for index, interval_folder in enumerate(sorted(os.listdir(dataset_dir))):\n",
    "    # 0-19, 20-39 ...\n",
    "    if index == 0:\n",
    "        print(f\"Reference Poses on {index}. index on {interval_folder} Interval\")\n",
    "        ref_poses_path = os.path.join(dataset_dir, interval_folder, \"masked_undistorted_images\", \"poses_bounds.npy\") # example -> /home/alper/Spaceport/data/20_interval_resized_test_2200_1600_shape_full/20-39/masked_undistorted_images\n",
    "        ref_poses = np.load(ref_poses_path)\n",
    "        ref_pose_interval = interval_folder\n",
    "    else:\n",
    "        other_pose_path = os.path.join(dataset_dir, interval_folder, \"masked_undistorted_images\", \"poses_bounds.npy\")\n",
    "        other_pose = np.load(other_pose_path)\n",
    "        other_poses.append(other_pose)\n",
    "\n",
    "\n",
    "for index, (pose, interval_folder) in enumerate(zip(other_poses, sorted(os.listdir(dataset_dir)))):\n",
    "    if np.array_equal(ref_poses, pose):\n",
    "        print(f\"Pose on {interval_folder} is ------ EQUAL ------to Ref Pose Which is on {ref_pose_interval}\")\n",
    "    else:\n",
    "        print(f\"Pose on {interval_folder} is ------ NOT EQUAL ------ to Ref Pose Which is on {ref_pose_interval}\")"
   ]
  },
  {
   "cell_type": "code",
   "execution_count": null,
   "metadata": {},
   "outputs": [],
   "source": []
  }
 ],
 "metadata": {
  "kernelspec": {
   "display_name": "Gaussians4D",
   "language": "python",
   "name": "python3"
  },
  "language_info": {
   "codemirror_mode": {
    "name": "ipython",
    "version": 3
   },
   "file_extension": ".py",
   "mimetype": "text/x-python",
   "name": "python",
   "nbconvert_exporter": "python",
   "pygments_lexer": "ipython3",
   "version": "3.7.12"
  }
 },
 "nbformat": 4,
 "nbformat_minor": 2
}
