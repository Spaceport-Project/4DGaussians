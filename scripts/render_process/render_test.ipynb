{
 "cells": [
  {
   "cell_type": "code",
   "execution_count": 5,
   "metadata": {},
   "outputs": [
    {
     "name": "stdout",
     "output_type": "stream",
     "text": [
      "(3000, 6000, 3)\n"
     ]
    },
    {
     "name": "stderr",
     "output_type": "stream",
     "text": [
      "\n",
      "0: 1120x2208 1 person, 96.5ms\n",
      "Speed: 9.3ms preprocess, 96.5ms inference, 1.2ms postprocess per image at shape (1, 3, 1120, 2208)\n",
      "Results saved to \u001b[1mruns/segment/predict56\u001b[0m\n"
     ]
    },
    {
     "name": "stdout",
     "output_type": "stream",
     "text": [
      "Consumed time ->  1.246295690536499\n"
     ]
    },
    {
     "data": {
      "text/plain": [
       "True"
      ]
     },
     "execution_count": 5,
     "metadata": {},
     "output_type": "execute_result"
    }
   ],
   "source": [
    "from ultralytics import YOLO\n",
    "import cv2\n",
    "import time\n",
    "import torch\n",
    "import matplotlib.pyplot as plt\n",
    "import numpy as np \n",
    "\n",
    "model = YOLO(\"yolov8x-seg.pt\")\n",
    "st = time.time()\n",
    "\n",
    "img = cv2.imread(\"/home/alper/Spaceport/render_process/8_02.png\")\n",
    "background_image = cv2.imread(\"/home/alper/Spaceport/render_process/background_8.png\")\n",
    "\n",
    "imgsz = 2208\n",
    "kernel_size = 2\n",
    "erode_iter = 5\n",
    "kernel = np.ones((kernel_size, kernel_size), np.uint8)\n",
    "results = model(img.copy(), imgsz=imgsz, classes=0, save=True)  # predict on an image\n",
    "\n",
    "for result in results:\n",
    "    masks = result.masks.data\n",
    "    boxes = result.boxes.data\n",
    "    clss = boxes[:, 5]\n",
    "    people_indices = torch.where(clss == 0)\n",
    "    people_masks = masks[people_indices]\n",
    "    people_mask = torch.any(people_masks, dim=0).int() * 255\n",
    "    mask = people_mask.cpu().numpy() # int32\n",
    "    # cv2.imwrite(\"person_mask_output.png\", mask)\n",
    "\n",
    "mask = mask.astype(np.uint8) # 2800 x 4416\n",
    "resized_mask = cv2.resize(mask, (img.shape[1], img.shape[0]), interpolation = cv2.INTER_LINEAR) # 3000 x 6000\n",
    "processed_mask = cv2.erode(resized_mask, kernel, erode_iter)\n",
    "post_processed_person_merge = cv2.bitwise_and(img, img, mask=processed_mask[:, :, None])\n",
    "background_image[processed_mask != 0] = post_processed_person_merge[processed_mask != 0]\n",
    "\n",
    "print(\"Consumed time -> \", time.time() - st)\n",
    "cv2.imwrite(f\"result_ks{kernel_size}_it_{erode_iter}_imgsize_{imgsz}.png\", background_image)"
   ]
  },
  {
   "cell_type": "code",
   "execution_count": 4,
   "metadata": {},
   "outputs": [
    {
     "data": {
      "text/plain": [
       "True"
      ]
     },
     "execution_count": 4,
     "metadata": {},
     "output_type": "execute_result"
    }
   ],
   "source": [
    "import cv2\n",
    "import numpy as np\n",
    "\n",
    "mask = cv2.imread(\"/home/alper/Spaceport/render_process/yolox_mask_1.png\", 0)\n",
    "img = cv2.imread(\"/home/alper/Spaceport/render_process/8_02.png\")\n",
    "background_image = cv2.imread(\"/home/alper/Spaceport/render_process/background_8.png\")\n",
    "\n",
    "kernel_size = 5\n",
    "erode_iter = 5\n",
    "kernel = np.ones((kernel_size, kernel_size), np.uint8)\n",
    "processed_mask = cv2.erode(mask, kernel, erode_iter)\n",
    "post_processed_person_merge = cv2.bitwise_and(img, img, mask=processed_mask[:, :, None])\n",
    "background_image[processed_mask != 0] = post_processed_person_merge[processed_mask != 0]\n",
    "cv2.imwrite(f\"yolox_masked_results{kernel_size}_it_{erode_iter}.png\", background_image)"
   ]
  },
  {
   "cell_type": "code",
   "execution_count": null,
   "metadata": {},
   "outputs": [],
   "source": []
  }
 ],
 "metadata": {
  "kernelspec": {
   "display_name": "Gaussians4D",
   "language": "python",
   "name": "python3"
  },
  "language_info": {
   "codemirror_mode": {
    "name": "ipython",
    "version": 3
   },
   "file_extension": ".py",
   "mimetype": "text/x-python",
   "name": "python",
   "nbconvert_exporter": "python",
   "pygments_lexer": "ipython3",
   "version": "3.7.12"
  }
 },
 "nbformat": 4,
 "nbformat_minor": 2
}
